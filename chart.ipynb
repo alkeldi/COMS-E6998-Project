{
 "cells": [
  {
   "cell_type": "code",
   "execution_count": 25,
   "metadata": {},
   "outputs": [
    {
     "ename": "TypeError",
     "evalue": "unsupported operand type(s) for *: 'range' and 'int'",
     "output_type": "error",
     "traceback": [
      "\u001b[0;31m---------------------------------------------------------------------------\u001b[0m",
      "\u001b[0;31mTypeError\u001b[0m                                 Traceback (most recent call last)",
      "Cell \u001b[0;32mIn[25], line 17\u001b[0m\n\u001b[1;32m     14\u001b[0m     \u001b[39mfor\u001b[39;00m row \u001b[39min\u001b[39;00m losses:\n\u001b[1;32m     15\u001b[0m         all_losses_hog\u001b[39m.\u001b[39mappend(\u001b[39mfloat\u001b[39m(row[\u001b[39m0\u001b[39m]))\n\u001b[0;32m---> 17\u001b[0m seq_batches \u001b[39m=\u001b[39m \u001b[39mrange\u001b[39;49m(\u001b[39mlen\u001b[39;49m(all_losses_seq)) \u001b[39m*\u001b[39;49m \u001b[39m10\u001b[39;49m\n\u001b[1;32m     18\u001b[0m hog_batches \u001b[39m=\u001b[39m \u001b[39mrange\u001b[39m(\u001b[39mlen\u001b[39m(all_losses_hog)) \u001b[39m*\u001b[39m \u001b[39m10\u001b[39m\n\u001b[1;32m     20\u001b[0m plt\u001b[39m.\u001b[39mplot(seq_batches, all_losses_seq, label\u001b[39m=\u001b[39m\u001b[39m'\u001b[39m\u001b[39mSequential\u001b[39m\u001b[39m'\u001b[39m)\n",
      "\u001b[0;31mTypeError\u001b[0m: unsupported operand type(s) for *: 'range' and 'int'"
     ]
    }
   ],
   "source": [
    "import matplotlib.pyplot as plt\n",
    "import csv\n",
    "\n",
    "all_losses_seq = []\n",
    "all_losses_hog = []\n",
    "\n",
    "with open('training_losses_sequential.csv', newline='') as csvfile:\n",
    "    losses = csv.reader(csvfile, delimiter=' ', quotechar='|')\n",
    "    for row in losses:\n",
    "        all_losses_seq.append(float(row[0]))\n",
    "        \n",
    "with open('training_losses_hog.csv', newline='') as csvfile:\n",
    "    losses = csv.reader(csvfile, delimiter=' ', quotechar='|')\n",
    "    for row in losses:\n",
    "        all_losses_hog.append(float(row[0]))\n",
    "\n",
    "seq_batches = range(len(all_losses_seq)) * 10\n",
    "seq_batches = [value * 10 for value in seq_batches]\n",
    "hog_batches = range(len(all_losses_hog)) * 10\n",
    "hog_batches = [value * 10 for value in hog_batches]\n",
    "\n",
    "plt.plot(seq_batches, all_losses_seq, label='Sequential')\n",
    "plt.plot(hog_batches, all_losses_hog, label='Hogwild')\n",
    "plt.xlabel('Batch')\n",
    "plt.ylabel('Training Loss')\n",
    "plt.title('ResNet18 + CIFAR10: Training Loss vs. Batch Number')\n",
    "plt.legend()\n",
    "plt.show()"
   ]
  },
  {
   "cell_type": "markdown",
   "metadata": {},
   "source": []
  }
 ],
 "metadata": {
  "kernelspec": {
   "display_name": "torch-gpu",
   "language": "python",
   "name": "python3"
  },
  "language_info": {
   "codemirror_mode": {
    "name": "ipython",
    "version": 3
   },
   "file_extension": ".py",
   "mimetype": "text/x-python",
   "name": "python",
   "nbconvert_exporter": "python",
   "pygments_lexer": "ipython3",
   "version": "3.8.15"
  },
  "orig_nbformat": 4,
  "vscode": {
   "interpreter": {
    "hash": "e1cb4ba5f411cfa4a68a7ea6c2f9ba3655e2604bd37447d058a856eda531fd15"
   }
  }
 },
 "nbformat": 4,
 "nbformat_minor": 2
}
